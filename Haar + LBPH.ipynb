{
 "cells": [
  {
   "cell_type": "code",
   "execution_count": 1,
   "id": "2674f16a",
   "metadata": {},
   "outputs": [],
   "source": [
    "import os\n",
    "import numpy as np\n",
    "from PIL import Image\n",
    "from sklearn.metrics import accuracy_score, precision_score, recall_score, f1_score\n",
    "import cv2\n",
    "\n",
    "# Initialize face recognizer\n",
    "recognizer = cv2.face.LBPHFaceRecognizer_create()\n",
    "\n",
    "# Initialize the face detector\n",
    "detector = cv2.CascadeClassifier(cv2.data.haarcascades + 'haarcascade_frontalface_default.xml')\n",
    "\n"
   ]
  },
  {
   "cell_type": "code",
   "execution_count": 2,
   "id": "10031c49",
   "metadata": {},
   "outputs": [],
   "source": [
    "def getImagesAndLabels(subfolders, dataset_path):\n",
    "    faceSamples = []\n",
    "    ids = []\n",
    "\n",
    "    for folder_name in subfolders:\n",
    "        folder_path = os.path.join(dataset_path, folder_name)\n",
    "        \n",
    "        if os.path.isdir(folder_path):\n",
    "            id = int(folder_name.replace('s', ''))\n",
    "\n",
    "            for image_name in os.listdir(folder_path):\n",
    "                if image_name.endswith('.pgm'):\n",
    "                    imagePath = os.path.join(folder_path, image_name)\n",
    "#                     print(\"Processing image:\", imagePath)\n",
    "\n",
    "                    # Load and convert image to grayscale\n",
    "                    PIL_img = Image.open(imagePath).convert('L')\n",
    "                    img_numpy = np.array(PIL_img, 'uint8')\n",
    "\n",
    "                    # Detect faces in the image\n",
    "                    faces = detector.detectMultiScale(img_numpy)\n",
    "                    for (x, y, w, h) in faces:\n",
    "                        faceSamples.append(img_numpy[y:y+h, x:x+w])\n",
    "                        ids.append(id)\n",
    "\n",
    "    return faceSamples, ids\n",
    "\n"
   ]
  },
  {
   "cell_type": "code",
   "execution_count": 3,
   "id": "dcb671d6",
   "metadata": {},
   "outputs": [
    {
     "name": "stdout",
     "output_type": "stream",
     "text": [
      "\n",
      "[INFO] Loading training data...\n",
      "\n",
      "[INFO] Training the model...\n",
      "\n",
      "[INFO] Loading testing data...\n",
      "\n",
      "[INFO] Evaluation Results:\n",
      "Accuracy: 0.88\n",
      "Precision: 0.83\n",
      "Recall: 0.88\n",
      "F1 Score: 0.85\n"
     ]
    }
   ],
   "source": [
    "# Define the subfolders to use for training and testing\n",
    "train_subfolders = [f's{i}' for i in range(1, 37)] \n",
    "test_subfolders = [f's{i}' for i in range(20, 39)]  \n",
    "# train_subfolders = [f's{i}' for i in range(1, 21)] \n",
    "# test_subfolders = [f's{i}' for i in range(15, 22)]  \n",
    "\n",
    "dataset_path = 'dataset'  #att_faces\n",
    "\n",
    "# Load training data\n",
    "print(\"\\n[INFO] Loading training data...\")\n",
    "train_faces, train_ids = getImagesAndLabels(train_subfolders, dataset_path)\n",
    "\n",
    "# Train the model\n",
    "print(\"\\n[INFO] Training the model...\")\n",
    "recognizer.train(train_faces, np.array(train_ids))\n",
    "\n",
    "# Save the trained model\n",
    "model_save_dir = 'trainer'\n",
    "if not os.path.exists(model_save_dir):\n",
    "    os.makedirs(model_save_dir)\n",
    "recognizer.write(os.path.join(model_save_dir, 'trainer.yml'))\n",
    "\n",
    "# Load testing data\n",
    "print(\"\\n[INFO] Loading testing data...\")\n",
    "test_faces, test_ids = getImagesAndLabels(test_subfolders, dataset_path)\n",
    "\n",
    "# Predict on test data\n",
    "predictions = []\n",
    "for face in test_faces:\n",
    "    label, confidence = recognizer.predict(face)\n",
    "    predictions.append(label)\n",
    "\n",
    "# Calculate metrics\n",
    "accuracy = accuracy_score(test_ids, predictions)\n",
    "precision = precision_score(test_ids, predictions, average='weighted', zero_division=0)\n",
    "recall = recall_score(test_ids, predictions, average='weighted', zero_division=0)\n",
    "f1 = f1_score(test_ids, predictions, average='weighted', zero_division=0)\n",
    "\n",
    "# Print metrics\n",
    "print(\"\\n[INFO] Evaluation Results:\")\n",
    "print(\"Accuracy: {:.2f}\".format(accuracy))\n",
    "print(\"Precision: {:.2f}\".format(precision))\n",
    "print(\"Recall: {:.2f}\".format(recall))\n",
    "print(\"F1 Score: {:.2f}\".format(f1))\n"
   ]
  },
  {
   "cell_type": "code",
   "execution_count": 4,
   "id": "127527f4",
   "metadata": {},
   "outputs": [
    {
     "name": "stdout",
     "output_type": "stream",
     "text": [
      "Predicted labels: [20, 20, 20, 20, 20, 20, 20, 20, 20, 20, 21, 21, 21, 21, 21, 21, 21, 21, 21, 21, 22, 22, 22, 22, 22, 22, 22, 22, 22, 22, 23, 23, 23, 23, 23, 23, 23, 23, 23, 23, 24, 24, 24, 24, 24, 24, 24, 24, 24, 24, 25, 25, 25, 25, 25, 25, 25, 26, 26, 26, 26, 26, 26, 26, 27, 27, 27, 27, 27, 27, 27, 27, 27, 27, 28, 28, 28, 28, 28, 28, 28, 28, 28, 29, 29, 29, 29, 29, 29, 29, 29, 29, 30, 30, 30, 30, 30, 30, 30, 30, 30, 31, 31, 31, 31, 31, 31, 31, 31, 31, 31, 32, 32, 32, 32, 32, 32, 32, 32, 32, 33, 33, 33, 33, 33, 33, 33, 33, 33, 33, 34, 34, 34, 34, 34, 34, 34, 35, 35, 35, 35, 35, 35, 35, 36, 36, 36, 36, 36, 36, 36, 36, 36, 28, 28, 32, 28, 28, 31, 28, 28, 31, 28, 4, 23, 23, 23, 4, 4, 4, 23, 4, 23]\n",
      "True IDs: [20, 20, 20, 20, 20, 20, 20, 20, 20, 20, 21, 21, 21, 21, 21, 21, 21, 21, 21, 21, 22, 22, 22, 22, 22, 22, 22, 22, 22, 22, 23, 23, 23, 23, 23, 23, 23, 23, 23, 23, 24, 24, 24, 24, 24, 24, 24, 24, 24, 24, 25, 25, 25, 25, 25, 25, 25, 26, 26, 26, 26, 26, 26, 26, 27, 27, 27, 27, 27, 27, 27, 27, 27, 27, 28, 28, 28, 28, 28, 28, 28, 28, 28, 29, 29, 29, 29, 29, 29, 29, 29, 29, 30, 30, 30, 30, 30, 30, 30, 30, 30, 31, 31, 31, 31, 31, 31, 31, 31, 31, 31, 32, 32, 32, 32, 32, 32, 32, 32, 32, 33, 33, 33, 33, 33, 33, 33, 33, 33, 33, 34, 34, 34, 34, 34, 34, 34, 35, 35, 35, 35, 35, 35, 35, 36, 36, 36, 36, 36, 36, 36, 36, 36, 37, 37, 37, 37, 37, 37, 37, 37, 37, 37, 38, 38, 38, 38, 38, 38, 38, 38, 38, 38]\n"
     ]
    }
   ],
   "source": [
    "# Predict on test data\n",
    "predictions = []\n",
    "for face in test_faces:\n",
    "    label, confidence = recognizer.predict(face)\n",
    "    predictions.append(label)\n",
    "\n",
    "# Print predictions and true IDs\n",
    "print(\"Predicted labels:\", predictions)\n",
    "print(\"True IDs:\", test_ids)\n"
   ]
  },
  {
   "cell_type": "code",
   "execution_count": 6,
   "id": "2571ec4d",
   "metadata": {},
   "outputs": [],
   "source": [
    "import numpy as np\n",
    "from sklearn.metrics import confusion_matrix, ConfusionMatrixDisplay\n",
    "import matplotlib.pyplot as plt\n",
    "\n",
    "\n",
    "predicted_labels = [20, 20, 20, 20, 20, 20, 20, 20, 20, 20, 21, 21, 21, 21, 21, 21, 21, 21, 21, 21, 22, 22, 22, 22, 22, 22, 22, 22, 22, 22, 23, 23, 23, 23, 23, 23, 23, 23, 23, 23, 24, 24, 24, 24, 24, 24, 24, 24, 24, 24, 25, 25, 25, 25, 25, 25, 25, 26, 26, 26, 26, 26, 26, 26, 27, 27, 27, 27, 27, 27, 27, 27, 27, 27, 28, 28, 28, 28, 28, 28, 28, 28, 28, 29, 29, 29, 29, 29, 29, 29, 29, 29, 30, 30, 30, 30, 30, 30, 30, 30, 30, 31, 31, 31, 31, 31, 31, 31, 31, 31, 31, 32, 32, 32, 32, 32, 32, 32, 32, 32, 33, 33, 33, 33, 33, 33, 33, 33, 33, 33, 34, 34, 34, 34, 34, 34, 34, 35, 35, 35, 35, 35, 35, 35, 36, 36, 36, 36, 36, 36, 36, 36, 36, 28, 28, 32, 28, 28, 31, 28, 28, 31, 28, 4, 23, 23, 23, 4, 4, 4, 23, 4, 23]\n",
    "true_labels = [20, 20, 20, 20, 20, 20, 20, 20, 20, 20, 21, 21, 21, 21, 21, 21, 21, 21, 21, 21, 22, 22, 22, 22, 22, 22, 22, 22, 22, 22, 23, 23, 23, 23, 23, 23, 23, 23, 23, 23, 24, 24, 24, 24, 24, 24, 24, 24, 24, 24, 25, 25, 25, 25, 25, 25, 25, 26, 26, 26, 26, 26, 26, 26, 27, 27, 27, 27, 27, 27, 27, 27, 27, 27, 28, 28, 28, 28, 28, 28, 28, 28, 28, 29, 29, 29, 29, 29, 29, 29, 29, 29, 30, 30, 30, 30, 30, 30, 30, 30, 30, 31, 31, 31, 31, 31, 31, 31, 31, 31, 31, 32, 32, 32, 32, 32, 32, 32, 32, 32, 33, 33, 33, 33, 33, 33, 33, 33, 33, 33, 34, 34, 34, 34, 34, 34, 34, 35, 35, 35, 35, 35, 35, 35, 36, 36, 36, 36, 36, 36, 36, 36, 36, 37, 37, 37, 37, 37, 37, 37, 37, 37, 37, 38, 38, 38, 38, 38, 38, 38, 38, 38, 38]"
   ]
  },
  {
   "cell_type": "code",
   "execution_count": 7,
   "id": "60928a57",
   "metadata": {},
   "outputs": [
    {
     "data": {
      "image/png": "[encoded data removed]",
      "text/plain": [
       "<Figure size 640x480 with 2 Axes>"
      ]
     },
     "metadata": {},
     "output_type": "display_data"
    }
   ],
   "source": [
    "import numpy as np\n",
    "from sklearn.metrics import confusion_matrix, ConfusionMatrixDisplay\n",
    "import matplotlib.pyplot as plt\n",
    "\n",
    "# Your labels\n",
    "# predicted_labels = [15, 15, 15, 15, 15, 15, 15, 15, 15, 15, 16, 16, 16, 16, 16, 16, 16, 16, 17, 17, 17, 17, 17, 17, 17, 17, 18, 18, 18, 18, 18, 18, 18, 18, 18, 18, 19, 19, 19, 19, 19, 19, 19, 19, 19, 20, 20, 20, 20, 20, 20, 20, 20, 20, 20, 12, 4, 12, 12, 12, 3, 3, 4, 5, 17]\n",
    "# true_labels = [15, 15, 15, 15, 15, 15, 15, 15, 15, 15, 16, 16, 16, 16, 16, 16, 16, 16, 17, 17, 17, 17, 17, 17, 17, 17, 18, 18, 18, 18, 18, 18, 18, 18, 18, 18, 19, 19, 19, 19, 19, 19, 19, 19, 19, 20, 20, 20, 20, 20, 20, 20, 20, 20, 20, 21, 21, 21, 21, 21, 21, 21, 21, 21, 21]\n",
    "\n",
    "# Define all possible labels (including those that might not be predicted or true in your current data)\n",
    "all_labels = [3, 4, 5, 12, 15, 16, 17, 18, 19, 20, 21]\n",
    "\n",
    "# Generate the confusion matrix\n",
    "cm = confusion_matrix(true_labels, predicted_labels, labels=all_labels)\n",
    "\n",
    "# Display the confusion matrix with specified labels\n",
    "disp = ConfusionMatrixDisplay(confusion_matrix=cm, display_labels=all_labels)\n",
    "disp.plot(cmap=plt.cm.Blues)\n",
    "plt.show()\n"
   ]
  }
 ],
 "metadata": {
  "kernelspec": {
   "display_name": "Python 3 (ipykernel)",
   "language": "python",
   "name": "python3"
  },
  "language_info": {
   "codemirror_mode": {
    "name": "ipython",
    "version": 3
   },
   "file_extension": ".py",
   "mimetype": "text/x-python",
   "name": "python",
   "nbconvert_exporter": "python",
   "pygments_lexer": "ipython3",
   "version": "3.9.13"
  }
 },
 "nbformat": 4,
 "nbformat_minor": 5
}
